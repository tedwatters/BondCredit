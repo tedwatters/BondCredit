{
 "cells": [
  {
   "cell_type": "markdown",
   "metadata": {},
   "source": [
    "# Introduction\n",
    "\n",
    "This is a project for Johns Hopkins EN.625.722.3VL Probability, Stochastic Process II\n",
    "\n",
    "The goal of this project is to use a hidden Markov model to determine the interaction between bond credit ratings and default rates.\n",
    "\n",
    "# Literature\n",
    "\n",
    "\n",
    " http://wwwf.imperial.ac.uk/~mdavis/docs/HiddenMarkovModel.pdf\n",
    " \n",
    " https://pdfs.semanticscholar.org/5789/14af35ca3f1499bac1d0809c9c5544082aa1.pdf\n",
    " \n",
    " https://editorialexpress.com/cgi-bin/conference/download.cgi?db_name=CEF2010&paper_id=66\n",
    "\n",
    "# Data Sources\n",
    "  \n",
    "Main Data Sets - Note: Login for WRDS likely required to gain access to data. From Wharton Research Data Services Merchant FISD.\n",
    "\n",
    "Bond Issue Data: \n",
    "https://wrds-web.wharton.upenn.edu/wrds/ds/fisd/mergedissue/index_maturity.cfm?navId=274\n",
    "Note - this data set had 232 columns. In order to use the Table Import Wizard in MySQL Workbench, I needed to trim this down. Further analysis may be available if the entire data set could have been imported.\n",
    "        \n",
    "Bond Credit Data: \n",
    "https://wrds-web.wharton.upenn.edu/wrds/ds/fisd/ratings/index.cfm?navId=274\n",
    "    \n",
    "Manual: \n",
    "https://wrds-www.wharton.upenn.edu/documents/1364/FixedIncome_Securities_Master_Database_User_Guide_v4.pdf?_ga=2.22133938.841289808.1588037239-1340702932.1585701600\n",
    "\n",
    "Historical Credit Ratings (TBD if used. Will compare to WRDS data)\n",
    "https://public.opendatasoft.com/explore/dataset/ratings-history/export/\n",
    "    \n",
    "# Data Manipulation\n",
    "Data was downloaded from WRDS in a CSV file format. From there, it was cleaned as necessary and imported into MySQL Workbench\n",
    "\n"
   ]
  },
  {
   "cell_type": "code",
   "execution_count": null,
   "metadata": {},
   "outputs": [],
   "source": []
  }
 ],
 "metadata": {
  "kernelspec": {
   "display_name": "Python 3",
   "language": "python",
   "name": "python3"
  },
  "language_info": {
   "codemirror_mode": {
    "name": "ipython",
    "version": 3
   },
   "file_extension": ".py",
   "mimetype": "text/x-python",
   "name": "python",
   "nbconvert_exporter": "python",
   "pygments_lexer": "ipython3",
   "version": "3.7.6"
  }
 },
 "nbformat": 4,
 "nbformat_minor": 4
}
